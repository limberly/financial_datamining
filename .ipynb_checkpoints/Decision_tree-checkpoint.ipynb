{
 "cells": [
  {
   "cell_type": "markdown",
   "id": "3fce8790",
   "metadata": {},
   "source": [
    "# Decision Tree from Scratch "
   ]
  },
  {
   "cell_type": "markdown",
   "id": "e5b0f483",
   "metadata": {},
   "source": [
    "## Data"
   ]
  },
  {
   "cell_type": "code",
   "execution_count": 1,
   "id": "648d7fc8",
   "metadata": {},
   "outputs": [],
   "source": [
    "import math\n",
    "import pandas as pd\n",
    "import numpy as np\n",
    "\n",
    "# Lenses data https://archive.ics.uci.edu/ml/machine-learning-databases/lenses/lenses.data\n",
    "# Directly add here for easiness\n",
    "\n",
    "data = [[1, 1, 1, 1, 1, 3],\n",
    "[2, 1, 1, 1, 2, 2],\n",
    "[3, 1, 1, 2, 1, 3],\n",
    "[4, 1, 1, 2, 2, 1],\n",
    "[5, 1, 2, 1, 1, 3],\n",
    "[6, 1, 2, 1, 2, 2],\n",
    "[7, 1, 2, 2, 1, 3],\n",
    "[8, 1, 2, 2, 2, 1],\n",
    "[9, 2, 1, 1, 1, 3],\n",
    "[10, 2, 1, 1, 2, 2],\n",
    "[11, 2, 1, 2, 1, 3],\n",
    "[12, 2, 1, 2, 2, 1],\n",
    "[13, 2, 2, 1, 1, 3],\n",
    "[14, 2, 2, 1, 2, 2],\n",
    "[15, 2, 2, 2, 1, 3],\n",
    "[16, 2, 2, 2, 2, 3],\n",
    "[17, 3, 1, 1, 1, 3],\n",
    "[18, 3, 1, 1, 2, 3],\n",
    "[19, 3, 1, 2, 1, 3],\n",
    "[20, 3, 1, 2, 2, 1],\n",
    "[21, 3, 2, 1, 1, 3],\n",
    "[22, 3, 2, 1, 2, 2],\n",
    "[23, 3, 2, 2, 1, 3],\n",
    "[24, 3, 2, 2, 2, 3]]\n",
    "\n",
    "df = pd.DataFrame(data, columns=['num','age','prescription','astigmatic','tear_rate','lens'])"
   ]
  },
  {
   "cell_type": "code",
   "execution_count": 27,
   "id": "d6088d92",
   "metadata": {},
   "outputs": [],
   "source": [
    "class decision_tree:\n",
    "    def __init__(self):\n",
    "        self.split_value = 0\n",
    "        self.split_attr = -1\n",
    "        self.max_gain = 0.1\n",
    "        self.left = None\n",
    "        self.right = None\n",
    "        self.depth = 0\n",
    "        self.distribution = []\n",
    "\n",
    "def entropy(data, target_attr):\n",
    "    # Calculates the entropy of the given data set for the target attribute.\n",
    "    \n",
    "    # get unique values of target variable\n",
    "    target_vals = {row[target_attr] for row in data}\n",
    "    \n",
    "    n = len(data)\n",
    "    \n",
    "    # counter for each target values\n",
    "    p = {x: 0 for x in target_vals}\n",
    "    \n",
    "    data_entropy = 0\n",
    "    \n",
    "    # count each target values in the data\n",
    "    for val in target_vals:\n",
    "        for row in data:\n",
    "            if row[1] == val: p[val] += 1\n",
    "    \n",
    "    # calculate entropy using the counter\n",
    "    for x in p.values:\n",
    "        data_entropy -= (x/n)*log(x/n)\n",
    "        \n",
    "    return data_entropy\n",
    "\n",
    "def gain(data, attr, target_attr):\n",
    "    # Calculates the information gain (reduction in entropy)\n",
    "    # that would result by splitting the data on the chosen attribute (attr).\n",
    "    # Write your code here\n",
    "\n",
    "    \n",
    "\n",
    "    return gain\n",
    "\n",
    "def growTree(node, data,target_attr):\n",
    "    # which attribute and value is best to split\n",
    "    for i in range(len(data)): # go over each instance to split to left/right\n",
    "        for j in range(len(data[0])): # in each instance, go over each attribute\n",
    "            if gain(data,j,target_attr) > node.max_gain and j != target_attr:\n",
    "                node.split_value = data[i][j]\n",
    "                node.split_attr = j\n",
    "                node.max_gain = gain(data,j,target_attr)\n",
    "\n",
    "    if node.split_attr != -1:           \n",
    "        \n",
    "        print(\"=\" * node.depth + \"v\" + str(node.split_attr) + \">\" + str(node.split_value))\n",
    "                \n",
    "        # now split data\n",
    "        left_data, right_data = [], []\n",
    "        for i in range(len(data)):\n",
    "            if data[i][node.split_attr] > node.split_value:\n",
    "                right_data.append(data[i])\n",
    "            else:\n",
    "                left_data.append(data[i])\n",
    "        node.distribution = {i:[row[-1] for row in data].count(i) for i in set([row[-1] for row in data])}\n",
    "    if node.split_attr == -1 or len(data) <2 or len(right_data) <1 or len(left_data) <1:\n",
    "        # no more splitting\n",
    "        node.leaf = True\n",
    "        node.distribution = {i:[row[-1] for row in data].count(i) for i in set([row[-1] for row in data])}\n",
    "        # max(dic, key=dic.get) returns the key that has max value in a dict namely dic\n",
    "        print(\"=\" * node.depth + \"leaf: classify to class=\" + str(max(node.distribution, key=node.distribution.get)) + \" with class distribution \" + \"[\" + str(node.distribution) + \"]\")\n",
    "        return node\n",
    "\n",
    "    node.left = decision_tree()\n",
    "    node.left.depth = node.depth + 1\n",
    "    node.right = decision_tree()\n",
    "    node.right.depth = node.depth + 1\n",
    "    growTree(node.left, left_data, target_attr)\n",
    "    growTree(node.right, right_data, target_attr)\n",
    "\n",
    "def classify(node, X):\n",
    "    # classify test instances in X given a tree\n",
    "    # Write your code here\n",
    "\n",
    "    \n",
    "    return pred"
   ]
  },
  {
   "cell_type": "code",
   "execution_count": 28,
   "id": "d70c2b3e",
   "metadata": {},
   "outputs": [
    {
     "ename": "TypeError",
     "evalue": "'>' not supported between instances of 'function' and 'float'",
     "output_type": "error",
     "traceback": [
      "\u001b[0;31m---------------------------------------------------------------------------\u001b[0m",
      "\u001b[0;31mTypeError\u001b[0m                                 Traceback (most recent call last)",
      "\u001b[0;32m<ipython-input-28-ded62ea8d066>\u001b[0m in \u001b[0;36m<module>\u001b[0;34m\u001b[0m\n\u001b[1;32m      1\u001b[0m \u001b[0mtree\u001b[0m \u001b[0;34m=\u001b[0m \u001b[0mdecision_tree\u001b[0m\u001b[0;34m(\u001b[0m\u001b[0;34m)\u001b[0m\u001b[0;34m\u001b[0m\u001b[0;34m\u001b[0m\u001b[0m\n\u001b[1;32m      2\u001b[0m \u001b[0mclean_data\u001b[0m \u001b[0;34m=\u001b[0m \u001b[0;34m[\u001b[0m\u001b[0mrow\u001b[0m\u001b[0;34m[\u001b[0m\u001b[0;36m1\u001b[0m\u001b[0;34m:\u001b[0m\u001b[0;34m]\u001b[0m \u001b[0;32mfor\u001b[0m \u001b[0mrow\u001b[0m \u001b[0;32min\u001b[0m \u001b[0mdata\u001b[0m\u001b[0;34m]\u001b[0m\u001b[0;34m\u001b[0m\u001b[0;34m\u001b[0m\u001b[0m\n\u001b[0;32m----> 3\u001b[0;31m \u001b[0mgrowTree\u001b[0m\u001b[0;34m(\u001b[0m\u001b[0mtree\u001b[0m\u001b[0;34m,\u001b[0m\u001b[0mclean_data\u001b[0m\u001b[0;34m,\u001b[0m \u001b[0;36m4\u001b[0m\u001b[0;34m)\u001b[0m\u001b[0;34m\u001b[0m\u001b[0;34m\u001b[0m\u001b[0m\n\u001b[0m",
      "\u001b[0;32m<ipython-input-27-130eba5387b9>\u001b[0m in \u001b[0;36mgrowTree\u001b[0;34m(node, data, target_attr)\u001b[0m\n\u001b[1;32m     46\u001b[0m     \u001b[0;32mfor\u001b[0m \u001b[0mi\u001b[0m \u001b[0;32min\u001b[0m \u001b[0mrange\u001b[0m\u001b[0;34m(\u001b[0m\u001b[0mlen\u001b[0m\u001b[0;34m(\u001b[0m\u001b[0mdata\u001b[0m\u001b[0;34m)\u001b[0m\u001b[0;34m)\u001b[0m\u001b[0;34m:\u001b[0m \u001b[0;31m# go over each instance to split to left/right\u001b[0m\u001b[0;34m\u001b[0m\u001b[0;34m\u001b[0m\u001b[0m\n\u001b[1;32m     47\u001b[0m         \u001b[0;32mfor\u001b[0m \u001b[0mj\u001b[0m \u001b[0;32min\u001b[0m \u001b[0mrange\u001b[0m\u001b[0;34m(\u001b[0m\u001b[0mlen\u001b[0m\u001b[0;34m(\u001b[0m\u001b[0mdata\u001b[0m\u001b[0;34m[\u001b[0m\u001b[0;36m0\u001b[0m\u001b[0;34m]\u001b[0m\u001b[0;34m)\u001b[0m\u001b[0;34m)\u001b[0m\u001b[0;34m:\u001b[0m \u001b[0;31m# in each instance, go over each attribute\u001b[0m\u001b[0;34m\u001b[0m\u001b[0;34m\u001b[0m\u001b[0m\n\u001b[0;32m---> 48\u001b[0;31m             \u001b[0;32mif\u001b[0m \u001b[0mgain\u001b[0m\u001b[0;34m(\u001b[0m\u001b[0mdata\u001b[0m\u001b[0;34m,\u001b[0m\u001b[0mj\u001b[0m\u001b[0;34m,\u001b[0m\u001b[0mtarget_attr\u001b[0m\u001b[0;34m)\u001b[0m \u001b[0;34m>\u001b[0m \u001b[0mnode\u001b[0m\u001b[0;34m.\u001b[0m\u001b[0mmax_gain\u001b[0m \u001b[0;32mand\u001b[0m \u001b[0mj\u001b[0m \u001b[0;34m!=\u001b[0m \u001b[0mtarget_attr\u001b[0m\u001b[0;34m:\u001b[0m\u001b[0;34m\u001b[0m\u001b[0;34m\u001b[0m\u001b[0m\n\u001b[0m\u001b[1;32m     49\u001b[0m                 \u001b[0mnode\u001b[0m\u001b[0;34m.\u001b[0m\u001b[0msplit_value\u001b[0m \u001b[0;34m=\u001b[0m \u001b[0mdata\u001b[0m\u001b[0;34m[\u001b[0m\u001b[0mi\u001b[0m\u001b[0;34m]\u001b[0m\u001b[0;34m[\u001b[0m\u001b[0mj\u001b[0m\u001b[0;34m]\u001b[0m\u001b[0;34m\u001b[0m\u001b[0;34m\u001b[0m\u001b[0m\n\u001b[1;32m     50\u001b[0m                 \u001b[0mnode\u001b[0m\u001b[0;34m.\u001b[0m\u001b[0msplit_attr\u001b[0m \u001b[0;34m=\u001b[0m \u001b[0mj\u001b[0m\u001b[0;34m\u001b[0m\u001b[0;34m\u001b[0m\u001b[0m\n",
      "\u001b[0;31mTypeError\u001b[0m: '>' not supported between instances of 'function' and 'float'"
     ]
    }
   ],
   "source": [
    "tree = decision_tree()\n",
    "clean_data = [row[1:] for row in data]\n",
    "growTree(tree,clean_data, 4)"
   ]
  },
  {
   "cell_type": "code",
   "execution_count": 26,
   "id": "4109d826",
   "metadata": {},
   "outputs": [
    {
     "data": {
      "text/plain": [
       "0.9191738293819782"
      ]
     },
     "execution_count": 26,
     "metadata": {},
     "output_type": "execute_result"
    }
   ],
   "source": [
    "target_vals = {row[4] for row in clean_data}\n",
    "n = len(clean_data)\n",
    "p = {x: 0 for x in target_vals}\n",
    "entropy_sum = 0\n",
    "column1 = [[row[1], row[4]] for row in clean_data]\n",
    "\n",
    "for val in target_vals:\n",
    "    for row in column1:\n",
    "        if row[1] == val: p[val] += 1\n",
    "for x in p.values():\n",
    "    entropy_sum -= (x/n)*np.log(x/n)\n",
    "entropy_sum"
   ]
  },
  {
   "cell_type": "code",
   "execution_count": null,
   "id": "483cef94",
   "metadata": {},
   "outputs": [],
   "source": [
    "pred = classify(tree, data)\n",
    "y = [row[-1] for row in data]\n",
    "print(\"Accuracy: %f\\n\" % (np.mean(y == pred) * 100))"
   ]
  }
 ],
 "metadata": {
  "kernelspec": {
   "display_name": "Python 3",
   "language": "python",
   "name": "python3"
  },
  "language_info": {
   "codemirror_mode": {
    "name": "ipython",
    "version": 3
   },
   "file_extension": ".py",
   "mimetype": "text/x-python",
   "name": "python",
   "nbconvert_exporter": "python",
   "pygments_lexer": "ipython3",
   "version": "3.9.4"
  }
 },
 "nbformat": 4,
 "nbformat_minor": 5
}
