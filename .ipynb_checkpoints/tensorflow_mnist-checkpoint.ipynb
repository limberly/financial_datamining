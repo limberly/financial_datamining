{
 "cells": [
  {
   "cell_type": "markdown",
   "metadata": {
    "id": "mEcbxMLESfZp"
   },
   "source": [
    "# Neural Network Tensorflow Example"
   ]
  },
  {
   "cell_type": "code",
   "execution_count": 27,
   "metadata": {
    "id": "ZBO8Nvn-1nR3"
   },
   "outputs": [],
   "source": [
    "import tensorflow as tf\n",
    "from tensorflow import keras\n",
    "from tensorflow.keras import layers\n",
    "from tensorflow.keras import backend as K"
   ]
  },
  {
   "cell_type": "code",
   "execution_count": 2,
   "metadata": {
    "id": "T5gcNwHQ_OUV"
   },
   "outputs": [],
   "source": [
    "mnist = keras.datasets.mnist"
   ]
  },
  {
   "cell_type": "code",
   "execution_count": 18,
   "metadata": {
    "id": "ozKuaiLa_Vwq"
   },
   "outputs": [],
   "source": [
    "with tf.device('/GPU:0'):\n",
    "  (x_train, y_train), (x_test, y_test) = mnist.load_data()"
   ]
  },
  {
   "cell_type": "code",
   "execution_count": 4,
   "metadata": {
    "colab": {
     "base_uri": "https://localhost:8080/"
    },
    "id": "2S1-OtfS_eF-",
    "outputId": "00196462-d61f-465f-f462-38d552030f8e"
   },
   "outputs": [
    {
     "data": {
      "text/plain": [
       "(60000, 28, 28)"
      ]
     },
     "execution_count": 4,
     "metadata": {},
     "output_type": "execute_result"
    }
   ],
   "source": [
    "x_train.shape"
   ]
  },
  {
   "cell_type": "code",
   "execution_count": 19,
   "metadata": {
    "id": "UgQldXbB_h28"
   },
   "outputs": [],
   "source": [
    "x_train = x_train / 255.0\n",
    "x_test = x_test / 255.0"
   ]
  },
  {
   "cell_type": "markdown",
   "metadata": {
    "id": "tmuVyA62SmcB"
   },
   "source": [
    "## Train CNN"
   ]
  },
  {
   "cell_type": "code",
   "execution_count": 20,
   "metadata": {
    "id": "3SeYdnYx_7cI"
   },
   "outputs": [],
   "source": [
    "model = keras.models.Sequential([\n",
    "                                 keras.Input(shape=(28, 28, 1)),\n",
    "                                 layers.Conv2D(32, 3, activation='relu'),\n",
    "                                 layers.MaxPool2D(3),\n",
    "                                 layers.Conv2D(3, 3, activation='relu'),\n",
    "                                 layers.GlobalMaxPooling2D(),\n",
    "                                 layers.Dense(50, activation='relu'),\n",
    "                                 layers.Dense(10, activation='softmax')\n",
    "])\n",
    "\n",
    "model.compile(loss='sparse_categorical_crossentropy',\n",
    "              optimizer=keras.optimizers.SGD(learning_rate=0.01),\n",
    "              metrics=['accuracy'])"
   ]
  },
  {
   "cell_type": "code",
   "execution_count": 30,
   "metadata": {
    "colab": {
     "base_uri": "https://localhost:8080/"
    },
    "id": "gPsJBQ9rE2y5",
    "outputId": "9ec47108-0748-4033-9ffa-802fa065925d"
   },
   "outputs": [
    {
     "name": "stdout",
     "output_type": "stream",
     "text": [
      "Epoch 1/10\n",
      "1688/1688 [==============================] - 8s 5ms/step - loss: 0.6163 - accuracy: 0.7959 - val_loss: 0.6664 - val_accuracy: 0.7748\n",
      "Epoch 2/10\n",
      "1688/1688 [==============================] - 8s 5ms/step - loss: 0.6127 - accuracy: 0.7974 - val_loss: 0.5862 - val_accuracy: 0.8070\n",
      "Epoch 3/10\n",
      "1688/1688 [==============================] - 8s 5ms/step - loss: 0.6110 - accuracy: 0.7961 - val_loss: 0.6620 - val_accuracy: 0.7820\n",
      "Epoch 4/10\n",
      "1688/1688 [==============================] - 8s 5ms/step - loss: 0.6115 - accuracy: 0.7971 - val_loss: 0.6831 - val_accuracy: 0.7727\n",
      "Epoch 5/10\n",
      "1688/1688 [==============================] - 8s 5ms/step - loss: 0.6087 - accuracy: 0.7973 - val_loss: 0.5683 - val_accuracy: 0.8187\n",
      "Epoch 6/10\n",
      "1688/1688 [==============================] - 8s 5ms/step - loss: 0.6067 - accuracy: 0.7987 - val_loss: 0.5615 - val_accuracy: 0.8265\n",
      "Epoch 7/10\n",
      "1688/1688 [==============================] - 8s 5ms/step - loss: 0.6056 - accuracy: 0.7979 - val_loss: 0.5850 - val_accuracy: 0.8108\n",
      "Epoch 8/10\n",
      "1688/1688 [==============================] - 8s 5ms/step - loss: 0.6033 - accuracy: 0.7991 - val_loss: 0.5754 - val_accuracy: 0.8092\n",
      "Epoch 9/10\n",
      "1688/1688 [==============================] - 8s 5ms/step - loss: 0.6000 - accuracy: 0.8017 - val_loss: 0.5778 - val_accuracy: 0.8105\n",
      "Epoch 10/10\n",
      "1688/1688 [==============================] - 8s 5ms/step - loss: 0.6016 - accuracy: 0.8001 - val_loss: 0.5554 - val_accuracy: 0.8238\n"
     ]
    }
   ],
   "source": [
    "history = model.fit(x_train, y_train, epochs = 10, validation_split=.1)"
   ]
  },
  {
   "cell_type": "code",
   "execution_count": 32,
   "metadata": {
    "id": "fjgpjh1UPvVf"
   },
   "outputs": [],
   "source": [
    "K.set_value(model.optimizer.learning_rate, 0.003)"
   ]
  },
  {
   "cell_type": "code",
   "execution_count": 33,
   "metadata": {
    "colab": {
     "base_uri": "https://localhost:8080/"
    },
    "id": "1vmtmXIHP_jw",
    "outputId": "b3179739-11d7-4207-f156-61b00ea27362"
   },
   "outputs": [
    {
     "name": "stdout",
     "output_type": "stream",
     "text": [
      "Epoch 1/10\n",
      "1688/1688 [==============================] - 8s 5ms/step - loss: 0.5750 - accuracy: 0.8107 - val_loss: 0.5605 - val_accuracy: 0.8205\n",
      "Epoch 2/10\n",
      "1688/1688 [==============================] - 8s 5ms/step - loss: 0.5736 - accuracy: 0.8109 - val_loss: 0.5501 - val_accuracy: 0.8295\n",
      "Epoch 3/10\n",
      "1688/1688 [==============================] - 8s 5ms/step - loss: 0.5721 - accuracy: 0.8099 - val_loss: 0.5429 - val_accuracy: 0.8280\n",
      "Epoch 4/10\n",
      "1688/1688 [==============================] - 8s 5ms/step - loss: 0.5711 - accuracy: 0.8124 - val_loss: 0.5475 - val_accuracy: 0.8275\n",
      "Epoch 5/10\n",
      "1688/1688 [==============================] - 9s 5ms/step - loss: 0.5706 - accuracy: 0.8130 - val_loss: 0.5416 - val_accuracy: 0.8298\n",
      "Epoch 6/10\n",
      "1688/1688 [==============================] - 9s 6ms/step - loss: 0.5705 - accuracy: 0.8126 - val_loss: 0.5496 - val_accuracy: 0.8233\n",
      "Epoch 7/10\n",
      "1688/1688 [==============================] - 8s 5ms/step - loss: 0.5701 - accuracy: 0.8110 - val_loss: 0.5442 - val_accuracy: 0.8270\n",
      "Epoch 8/10\n",
      "1688/1688 [==============================] - 8s 5ms/step - loss: 0.5701 - accuracy: 0.8117 - val_loss: 0.5529 - val_accuracy: 0.8245\n",
      "Epoch 9/10\n",
      "1688/1688 [==============================] - 8s 5ms/step - loss: 0.5687 - accuracy: 0.8125 - val_loss: 0.5593 - val_accuracy: 0.8258\n",
      "Epoch 10/10\n",
      "1688/1688 [==============================] - 8s 5ms/step - loss: 0.5682 - accuracy: 0.8131 - val_loss: 0.5598 - val_accuracy: 0.8183\n"
     ]
    },
    {
     "data": {
      "text/plain": [
       "<keras.callbacks.History at 0x7fc808a52a50>"
      ]
     },
     "execution_count": 33,
     "metadata": {},
     "output_type": "execute_result"
    }
   ],
   "source": [
    "model.fit(x_train, y_train, epochs = 10, validation_split=0.1)"
   ]
  },
  {
   "cell_type": "code",
   "execution_count": 38,
   "metadata": {
    "id": "RNFYbtBWQzBw"
   },
   "outputs": [],
   "source": [
    "model_pred = model.predict(x_test)"
   ]
  },
  {
   "cell_type": "code",
   "execution_count": 47,
   "metadata": {
    "colab": {
     "base_uri": "https://localhost:8080/"
    },
    "id": "PikWiLfARMTd",
    "outputId": "3d9fa5e5-9bbf-4ca2-e610-2d885c4ca149"
   },
   "outputs": [
    {
     "name": "stdout",
     "output_type": "stream",
     "text": [
      "cnn model accuracy:  0.8023\n"
     ]
    }
   ],
   "source": [
    "print(\"cnn model accuracy: \", (y_test == model_pred.argmax(axis=1)).sum() / len(y_test))"
   ]
  },
  {
   "cell_type": "markdown",
   "metadata": {
    "id": "89Z0o6p8Srz4"
   },
   "source": [
    "## Now Train a simple dense model and compare accuracy with CNN"
   ]
  },
  {
   "cell_type": "code",
   "execution_count": 23,
   "metadata": {
    "id": "mhnd_viKFcFv"
   },
   "outputs": [],
   "source": [
    "simple = keras.models.Sequential([\n",
    "                                  layers.Flatten(input_shape=[28, 28]),\n",
    "                                  layers.Dense(300, activation='relu'),\n",
    "                                  layers.Dense(10, activation='softmax')\n",
    "])\n",
    "\n",
    "simple.compile(loss='sparse_categorical_crossentropy',\n",
    "               optimizer=keras.optimizers.SGD(learning_rate=0.003),\n",
    "               metrics=['accuracy'])"
   ]
  },
  {
   "cell_type": "code",
   "execution_count": 24,
   "metadata": {
    "colab": {
     "base_uri": "https://localhost:8080/"
    },
    "id": "pjfJ0GvMNmdt",
    "outputId": "fd7bcba8-01fa-457d-84aa-c10b7b0ff37e"
   },
   "outputs": [
    {
     "name": "stdout",
     "output_type": "stream",
     "text": [
      "1688/1688 [==============================] - 6s 4ms/step - loss: 1.1057 - accuracy: 0.7512 - val_loss: 0.5499 - val_accuracy: 0.8878\n"
     ]
    }
   ],
   "source": [
    "simple_history = simple.fit(x_train, y_train, validation_split=0.1)"
   ]
  },
  {
   "cell_type": "code",
   "execution_count": 26,
   "metadata": {
    "colab": {
     "base_uri": "https://localhost:8080/"
    },
    "id": "O3csYTwPNsp4",
    "outputId": "ab6a641a-31b9-4d82-abd8-534a04db4455"
   },
   "outputs": [
    {
     "name": "stdout",
     "output_type": "stream",
     "text": [
      "1688/1688 [==============================] - 6s 3ms/step - loss: 0.4255 - accuracy: 0.8868 - val_loss: 0.3296 - val_accuracy: 0.9165\n"
     ]
    },
    {
     "data": {
      "text/plain": [
       "<keras.callbacks.History at 0x7fc808c58550>"
      ]
     },
     "execution_count": 26,
     "metadata": {},
     "output_type": "execute_result"
    }
   ],
   "source": [
    "simple.fit(x_train, y_train, validation_split=0.1)"
   ]
  },
  {
   "cell_type": "code",
   "execution_count": 35,
   "metadata": {
    "id": "uhWuM53YNy05"
   },
   "outputs": [],
   "source": [
    "K.set_value(simple.optimizer.learning_rate, 0.001)"
   ]
  },
  {
   "cell_type": "code",
   "execution_count": 36,
   "metadata": {
    "colab": {
     "base_uri": "https://localhost:8080/"
    },
    "id": "Ai6Lfq0hQUcN",
    "outputId": "047ed30a-6c87-48c0-bfc1-e4a8b38c3c0d"
   },
   "outputs": [
    {
     "name": "stdout",
     "output_type": "stream",
     "text": [
      "Epoch 1/5\n",
      "1688/1688 [==============================] - 6s 4ms/step - loss: 0.3907 - accuracy: 0.8942 - val_loss: 0.3178 - val_accuracy: 0.9190\n",
      "Epoch 2/5\n",
      "1688/1688 [==============================] - 6s 3ms/step - loss: 0.3785 - accuracy: 0.8967 - val_loss: 0.3079 - val_accuracy: 0.9198\n",
      "Epoch 3/5\n",
      "1688/1688 [==============================] - 6s 3ms/step - loss: 0.3681 - accuracy: 0.8984 - val_loss: 0.2994 - val_accuracy: 0.9205\n",
      "Epoch 4/5\n",
      "1688/1688 [==============================] - 6s 3ms/step - loss: 0.3590 - accuracy: 0.9012 - val_loss: 0.2924 - val_accuracy: 0.9222\n",
      "Epoch 5/5\n",
      "1688/1688 [==============================] - 6s 3ms/step - loss: 0.3509 - accuracy: 0.9029 - val_loss: 0.2861 - val_accuracy: 0.9225\n"
     ]
    },
    {
     "data": {
      "text/plain": [
       "<keras.callbacks.History at 0x7fc808b49e10>"
      ]
     },
     "execution_count": 36,
     "metadata": {},
     "output_type": "execute_result"
    }
   ],
   "source": [
    "simple.fit(x_train, y_train, epochs = 5, validation_split=0.1)"
   ]
  },
  {
   "cell_type": "code",
   "execution_count": 48,
   "metadata": {
    "id": "-LzeTB3rSVES"
   },
   "outputs": [],
   "source": [
    "simple_pred = simple.predict(x_test)"
   ]
  },
  {
   "cell_type": "code",
   "execution_count": 50,
   "metadata": {
    "colab": {
     "base_uri": "https://localhost:8080/"
    },
    "id": "K-9EZwLYQf1d",
    "outputId": "f0077449-07eb-4fe2-8349-14a919f54f50"
   },
   "outputs": [
    {
     "name": "stdout",
     "output_type": "stream",
     "text": [
      "simple model accuracy:  0.9103\n"
     ]
    }
   ],
   "source": [
    "print(\"simple model accuracy: \", (y_test == simple_pred.argmax(axis=1)).sum() / len(y_test))"
   ]
  },
  {
   "cell_type": "markdown",
   "metadata": {
    "id": "hnIHfVUtSbQ5"
   },
   "source": [
    "## Simple model was easier to train and get higher accuracy in shorter time. We are sure we can get better accuracy with CNN but always benchmark with simplest model."
   ]
  },
  {
   "cell_type": "code",
   "execution_count": null,
   "metadata": {
    "id": "rKLag6AvS8hY"
   },
   "outputs": [],
   "source": []
  }
 ],
 "metadata": {
  "accelerator": "GPU",
  "colab": {
   "collapsed_sections": [],
   "name": "tensorflow_mnist.ipynb",
   "provenance": []
  },
  "kernelspec": {
   "display_name": "Python 3",
   "language": "python",
   "name": "python3"
  },
  "language_info": {
   "codemirror_mode": {
    "name": "ipython",
    "version": 3
   },
   "file_extension": ".py",
   "mimetype": "text/x-python",
   "name": "python",
   "nbconvert_exporter": "python",
   "pygments_lexer": "ipython3",
   "version": "3.8.10"
  }
 },
 "nbformat": 4,
 "nbformat_minor": 1
}
