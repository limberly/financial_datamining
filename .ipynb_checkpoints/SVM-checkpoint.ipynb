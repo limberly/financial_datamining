{
 "cells": [
  {
   "cell_type": "code",
   "execution_count": 1,
   "metadata": {
    "executionInfo": {
     "elapsed": 295,
     "status": "ok",
     "timestamp": 1643930516496,
     "user": {
      "displayName": "Hyungue Lim",
      "photoUrl": "https://lh3.googleusercontent.com/a/default-user=s64",
      "userId": "00654898939318373426"
     },
     "user_tz": 300
    },
    "id": "y5AvDd8ei0Bh"
   },
   "outputs": [],
   "source": [
    "import pandas as pd\n",
    "bankruptcy_df = pd.read_csv(r'data/bankruptcy.csv',header =0)"
   ]
  },
  {
   "cell_type": "code",
   "execution_count": 2,
   "metadata": {
    "executionInfo": {
     "elapsed": 1074,
     "status": "ok",
     "timestamp": 1643930517565,
     "user": {
      "displayName": "Hyungue Lim",
      "photoUrl": "https://lh3.googleusercontent.com/a/default-user=s64",
      "userId": "00654898939318373426"
     },
     "user_tz": 300
    },
    "id": "ZA51Xyw1i8Hm"
   },
   "outputs": [],
   "source": [
    "import matplotlib.pyplot as plt \n",
    "import pandas as pd\n",
    "import numpy as np\n",
    "from sklearn.metrics import confusion_matrix\n",
    "from sklearn.metrics import classification_report\n",
    "from sklearn.metrics import recall_score\n",
    "from sklearn.metrics import accuracy_score\n",
    "from random import seed\n",
    "from random import random"
   ]
  },
  {
   "cell_type": "code",
   "execution_count": 3,
   "metadata": {
    "executionInfo": {
     "elapsed": 14,
     "status": "ok",
     "timestamp": 1643930517567,
     "user": {
      "displayName": "Hyungue Lim",
      "photoUrl": "https://lh3.googleusercontent.com/a/default-user=s64",
      "userId": "00654898939318373426"
     },
     "user_tz": 300
    },
    "id": "xJntTGmnjSi1"
   },
   "outputs": [],
   "source": [
    "seed(1)"
   ]
  },
  {
   "cell_type": "code",
   "execution_count": 4,
   "metadata": {
    "executionInfo": {
     "elapsed": 595,
     "status": "ok",
     "timestamp": 1643930518150,
     "user": {
      "displayName": "Hyungue Lim",
      "photoUrl": "https://lh3.googleusercontent.com/a/default-user=s64",
      "userId": "00654898939318373426"
     },
     "user_tz": 300
    },
    "id": "2GidRSspjUrN"
   },
   "outputs": [],
   "source": [
    "from sklearn.model_selection import train_test_split\n",
    "from sklearn.preprocessing import StandardScaler \n",
    "\n",
    "X = bankruptcy_df[bankruptcy_df.columns.difference(['Firm', 'FAIL'])]\n",
    "y = bankruptcy_df[['FAIL']]\n",
    "X_train, X_test, y_train, y_test = train_test_split(X, y, test_size=0.2, random_state=12345)\n",
    "\n",
    "scaler = StandardScaler()\n",
    "scaler.fit(X_train)\n",
    "\n",
    "X_train = scaler.transform(X_train)\n",
    "X_test = scaler.transform(X_test)\n",
    "\n",
    "from sklearn.feature_selection import SelectKBest\n",
    "k = 10\n",
    "prep = SelectKBest(k=k)\n",
    "X_train = prep.fit_transform(X_train, y_train.values.flatten())\n",
    "X_test = prep.fit_transform(X_test, y_test.values.flatten())"
   ]
  },
  {
   "cell_type": "code",
   "execution_count": 5,
   "metadata": {
    "executionInfo": {
     "elapsed": 18,
     "status": "ok",
     "timestamp": 1643930518152,
     "user": {
      "displayName": "Hyungue Lim",
      "photoUrl": "https://lh3.googleusercontent.com/a/default-user=s64",
      "userId": "00654898939318373426"
     },
     "user_tz": 300
    },
    "id": "J_xoJZl6jYt9"
   },
   "outputs": [],
   "source": [
    "import csv\n",
    "import numpy as np\n",
    "import math\n",
    "import cvxopt as opt\n",
    "from cvxopt import matrix, solvers"
   ]
  },
  {
   "cell_type": "code",
   "execution_count": 6,
   "metadata": {
    "executionInfo": {
     "elapsed": 15,
     "status": "ok",
     "timestamp": 1643930518153,
     "user": {
      "displayName": "Hyungue Lim",
      "photoUrl": "https://lh3.googleusercontent.com/a/default-user=s64",
      "userId": "00654898939318373426"
     },
     "user_tz": 300
    },
    "id": "i4-NJp45v3aX"
   },
   "outputs": [],
   "source": [
    "a1 = X_train[:5]"
   ]
  },
  {
   "cell_type": "code",
   "execution_count": 7,
   "metadata": {
    "executionInfo": {
     "elapsed": 177,
     "status": "ok",
     "timestamp": 1643930698870,
     "user": {
      "displayName": "Hyungue Lim",
      "photoUrl": "https://lh3.googleusercontent.com/a/default-user=s64",
      "userId": "00654898939318373426"
     },
     "user_tz": 300
    },
    "id": "T_gmUPGw12i3"
   },
   "outputs": [],
   "source": [
    "k = np.zeros((5,5))\n",
    "for i in range(5):\n",
    "  for j in range(5):\n",
    "    k[i,j] = (a1[i].dot(a1[j]) +1)**2"
   ]
  },
  {
   "cell_type": "code",
   "execution_count": 8,
   "metadata": {
    "colab": {
     "base_uri": "https://localhost:8080/"
    },
    "executionInfo": {
     "elapsed": 158,
     "status": "ok",
     "timestamp": 1643930720052,
     "user": {
      "displayName": "Hyungue Lim",
      "photoUrl": "https://lh3.googleusercontent.com/a/default-user=s64",
      "userId": "00654898939318373426"
     },
     "user_tz": 300
    },
    "id": "m4Pxza3Q3ZPp",
    "outputId": "071013b3-8f1d-473a-9e93-1e07b1ec7f15"
   },
   "outputs": [
    {
     "data": {
      "text/plain": [
       "array([[11.9660511 ,  6.21890106, 19.16827646,  1.48092323,  0.15831272],\n",
       "       [ 6.21890106, 61.50501275,  7.18455026,  0.13515003,  1.39615196],\n",
       "       [19.16827646,  7.18455026, 49.20374661,  1.05930864,  2.02410659],\n",
       "       [ 1.48092323,  0.13515003,  1.05930864,  7.18245891,  1.23073045],\n",
       "       [ 0.15831272,  1.39615196,  2.02410659,  1.23073045, 39.33331164]])"
      ]
     },
     "execution_count": 8,
     "metadata": {},
     "output_type": "execute_result"
    }
   ],
   "source": [
    "k"
   ]
  },
  {
   "cell_type": "code",
   "execution_count": 9,
   "metadata": {
    "colab": {
     "base_uri": "https://localhost:8080/"
    },
    "executionInfo": {
     "elapsed": 9,
     "status": "ok",
     "timestamp": 1643930720276,
     "user": {
      "displayName": "Hyungue Lim",
      "photoUrl": "https://lh3.googleusercontent.com/a/default-user=s64",
      "userId": "00654898939318373426"
     },
     "user_tz": 300
    },
    "id": "1uncslTV3cUg",
    "outputId": "037204b6-8106-4f96-8d61-9cc420f6ec14"
   },
   "outputs": [
    {
     "data": {
      "text/plain": [
       "array([[11.9660511 ,  6.21890106, 19.16827646,  1.48092323,  0.15831272],\n",
       "       [ 6.21890106, 61.50501275,  7.18455026,  0.13515003,  1.39615196],\n",
       "       [19.16827646,  7.18455026, 49.20374661,  1.05930864,  2.02410659],\n",
       "       [ 1.48092323,  0.13515003,  1.05930864,  7.18245891,  1.23073045],\n",
       "       [ 0.15831272,  1.39615196,  2.02410659,  1.23073045, 39.33331164]])"
      ]
     },
     "execution_count": 9,
     "metadata": {},
     "output_type": "execute_result"
    }
   ],
   "source": [
    "(a1.dot(a1.T) + 1)**2"
   ]
  },
  {
   "cell_type": "code",
   "execution_count": 10,
   "metadata": {
    "id": "gxE46ry96_9R"
   },
   "outputs": [],
   "source": [
    "def gauss(x, y, sigma=.1):\n",
    "  return np.exp((-np.linalg.norm(x - y, axis=1)**2) / (2*(sigma**2)))"
   ]
  },
  {
   "cell_type": "code",
   "execution_count": 11,
   "metadata": {
    "colab": {
     "base_uri": "https://localhost:8080/"
    },
    "executionInfo": {
     "elapsed": 201,
     "status": "ok",
     "timestamp": 1643931714178,
     "user": {
      "displayName": "Hyungue Lim",
      "photoUrl": "https://lh3.googleusercontent.com/a/default-user=s64",
      "userId": "00654898939318373426"
     },
     "user_tz": 300
    },
    "id": "rbos0SkT5zWz",
    "outputId": "b67a4cf9-626e-4c1d-97a0-864104256a2e"
   },
   "outputs": [
    {
     "data": {
      "text/plain": [
       "array([1.00000000e+000, 7.75570046e-138, 5.09022716e-038, 3.46298227e-081,\n",
       "       9.50051822e-195])"
      ]
     },
     "execution_count": 11,
     "metadata": {},
     "output_type": "execute_result"
    }
   ],
   "source": [
    "k = np.zeros((5,5))\n",
    "\n",
    "np.exp(-np.linalg.norm(a1[0] - a1, axis=1)**2 / (2*(0.1**2)))\n"
   ]
  },
  {
   "cell_type": "code",
   "execution_count": 12,
   "metadata": {
    "colab": {
     "base_uri": "https://localhost:8080/"
    },
    "executionInfo": {
     "elapsed": 131,
     "status": "ok",
     "timestamp": 1643931719824,
     "user": {
      "displayName": "Hyungue Lim",
      "photoUrl": "https://lh3.googleusercontent.com/a/default-user=s64",
      "userId": "00654898939318373426"
     },
     "user_tz": 300
    },
    "id": "VAOqgNnH6oOz",
    "outputId": "7a3bf957-5d85-4009-b4a4-b12b4f88d7f7"
   },
   "outputs": [
    {
     "data": {
      "text/plain": [
       "array([[1.00000000e+000, 7.75570046e-138, 5.09022716e-038,\n",
       "        3.46298227e-081, 9.50051822e-195],\n",
       "       [7.75570046e-138, 1.00000000e+000, 6.18828618e-207,\n",
       "        2.96588148e-213, 6.77760801e-256],\n",
       "       [5.09022716e-038, 6.18828618e-207, 1.00000000e+000,\n",
       "        1.52864993e-166, 0.00000000e+000],\n",
       "       [3.46298227e-081, 2.96588148e-213, 1.52864993e-166,\n",
       "        1.00000000e+000, 6.27375394e-147],\n",
       "       [9.50051822e-195, 6.77760801e-256, 0.00000000e+000,\n",
       "        6.27375394e-147, 1.00000000e+000]])"
      ]
     },
     "execution_count": 12,
     "metadata": {},
     "output_type": "execute_result"
    }
   ],
   "source": [
    "for i in range(5):\n",
    "  k[i] = np.exp((-np.linalg.norm(a1[i] - a1, axis=1)**2) / (2*(.1**2)))\n",
    "k"
   ]
  },
  {
   "cell_type": "code",
   "execution_count": 47,
   "metadata": {
    "colab": {
     "base_uri": "https://localhost:8080/"
    },
    "executionInfo": {
     "elapsed": 293,
     "status": "ok",
     "timestamp": 1643939414519,
     "user": {
      "displayName": "Hyungue Lim",
      "photoUrl": "https://lh3.googleusercontent.com/a/default-user=s64",
      "userId": "00654898939318373426"
     },
     "user_tz": 300
    },
    "id": "nj1fRxXXjbop",
    "outputId": "0a97cad3-d722-49bc-c22b-6767d0dbde42"
   },
   "outputs": [
    {
     "name": "stdout",
     "output_type": "stream",
     "text": [
      "Accuracy: 100.000000\n",
      "\n"
     ]
    }
   ],
   "source": [
    "def kernel(XTest, XTrain, ktype = 0, sigma = 0):\n",
    "    # Write your code below\n",
    "    \"\"\"\n",
    "    ktype=0 : RBF\n",
    "    ktype=1 : Polynomial (sigma is the exponent)\n",
    "    ktype=2 : Linear\n",
    "    \"\"\"\n",
    "\n",
    "    m = XTest.shape[0]\n",
    "    if ktype == 0:\n",
    "\n",
    "        K = np.zeros((m,m))\n",
    "        for i in range(m):\n",
    "\n",
    "            K[i] = np.exp((-np.linalg.norm(XTest[i] - XTrain, axis=1)**2) / (2*(sigma**2)))\n",
    "\n",
    "    elif ktype == 1:\n",
    "        K = (1 + XTest.dot(XTrain.T))**sigma\n",
    "\n",
    "    elif ktype == 2:\n",
    "        K = XTest.dot(XTrain.T)\n",
    "\n",
    "    return K   \n",
    "\n",
    "def predict(XTest, XTrain, yTrain, alpha):\n",
    "    support_vector = alpha > 0.0001\n",
    "    t_train = yTrain.copy()\n",
    "    t_train[yTrain == 0] = -1\n",
    "    t_train[yTrain == 1] = 1\n",
    "    t_train = t_train\n",
    "\n",
    "    train_kernel = X_train[support_vector.reshape(len(support_vector), )]\n",
    "    result = np.zeros(len(XTest))\n",
    "    for i in range(len(XTest)):\n",
    "        result[i] = (alpha[support_vector, None] * t_train[support_vector] * kernel(X_test[[i]], train_kernel, 2, 2).reshape(new_kernel.shape[1], -1)).sum() + 564.0 \n",
    "    \n",
    "    pred = result > 0\n",
    "    return pred\n",
    "\n",
    "def intercept(XTest, XTrain, yTrain, alpha):\n",
    "  \n",
    "    support_vector = alpha > 0.0001\n",
    "    t_train = yTrain.copy()\n",
    "    t_train[yTrain == 0] = -1\n",
    "    t_train[yTrain == 1] = 1\n",
    "    t_train = t_train.values\n",
    "\n",
    "    train_kernel = X_train[support_vector.reshape(len(support_vector), )]\n",
    "    new_kernel = kernel(train_kernel[[0]], train_kernel, 1, 2)\n",
    "    b = np.zeros(new_kernel.shape[1])\n",
    "    for i in range(new_kernel.shape[1]):\n",
    "        b[i] = t_train[i] - (alpha[support_vector, None] * t_train[support_vector] * kernel(train_kernel[[i]], train_kernel, 1, 2).reshape(new_kernel.shape[1], -1)).sum()  \n",
    "\n",
    "\n",
    "    return b.mean()\n",
    "\n",
    "\n",
    "# Linear Kernel\n",
    "TrainSize = X_train.shape[0]\n",
    "K = kernel(X_train, X_train, 1, 2)\n",
    "# a0 = opt.matrix(np.random.randn(TrainSize))\n",
    "\n",
    "# # Inequality that individual alpha>=0\n",
    "# G = opt.matrix(np.eye(TrainSize))\n",
    "# h = opt.matrix(np.zeros(TrainSize))\n",
    "\n",
    "# # Equality that sum(alpha_i*y_i)=0\n",
    "# A = opt.matrix(np.double(y_train))\n",
    "# b = opt.matrix(0.0)\n",
    "\n",
    "# # Change from min to max optimization by multiplying with -1\n",
    "# # Regularization term to force H positive definite\n",
    "ymat = np.diag(y_train.values.flatten())\n",
    "P2 = 0.5 * np.dot(ymat, np.dot(K, ymat)) + 1e-10 * np.identity(TrainSize)\n",
    "# q = opt.matrix(-np.ones((TrainSize,1)))\n",
    "\n",
    "# opts = {'maxiters':1000}\n",
    "# solvers.options['show_progress'] = False \n",
    "# sol = solvers.qp(opt.matrix(P), q, G, h, A.T, b, initvals=a0, options=opts) # solvers.qp to solve the optimization\n",
    "# alpha = np.array(sol['x'])\n",
    "m = X_train.shape[0]\n",
    "# K = kernel(X_train, X_train, 2, 2)\n",
    "P = opt.matrix(np.outer(y_train, y_train) * K)\n",
    "q = opt.matrix(-np.ones((m, 1)))\n",
    "G = opt.matrix(np.vstack((np.eye(m) * -1, np.eye(m))))\n",
    "h = opt.matrix(np.hstack((np.zeros(m), np.ones(m) * 1)))\n",
    "A = opt.matrix(y_train.values, (1, m), \"d\")\n",
    "b = opt.matrix(np.zeros(1))\n",
    "opt.solvers.options[\"show_progress\"] = False\n",
    "sol = opt.solvers.qp(P, q, G, h, A, b)\n",
    "alphas = np.array(sol[\"x\"])\n",
    "(alphas > 0.0001).sum()\n",
    "\n",
    "pred = predict(X_test, X_train, y_train.values, alphas)\n",
    "print('Accuracy: %f\\n' % (np.mean(pred == np.array(y_test).reshape(-1)) * 100))"
   ]
  },
  {
   "cell_type": "code",
   "execution_count": 21,
   "metadata": {},
   "outputs": [
    {
     "data": {
      "text/plain": [
       "594.5401697500298"
      ]
     },
     "execution_count": 21,
     "metadata": {},
     "output_type": "execute_result"
    }
   ],
   "source": [
    "intercept(X_train, X_train, y_train, alphas)"
   ]
  },
  {
   "cell_type": "code",
   "execution_count": 24,
   "metadata": {
    "colab": {
     "base_uri": "https://localhost:8080/"
    },
    "executionInfo": {
     "elapsed": 139,
     "status": "ok",
     "timestamp": 1643939963995,
     "user": {
      "displayName": "Hyungue Lim",
      "photoUrl": "https://lh3.googleusercontent.com/a/default-user=s64",
      "userId": "00654898939318373426"
     },
     "user_tz": 300
    },
    "id": "Ed4parOjNTt1",
    "outputId": "52c0dc0a-b497-42de-b8aa-fc31e83ded8f"
   },
   "outputs": [
    {
     "data": {
      "text/plain": [
       "594.5401697500298"
      ]
     },
     "execution_count": 24,
     "metadata": {},
     "output_type": "execute_result"
    }
   ],
   "source": [
    "support_vector = alphas > 0.0001\n",
    "t_train = y_train.copy()\n",
    "t_train[y_train == 0] = -1\n",
    "t_train[y_train == 1] = 1\n",
    "t_train = t_train.values\n",
    "\n",
    "train_kernel = X_train[support_vector.reshape(48, )]\n",
    "new_kernel = kernel(train_kernel[[0]], train_kernel, 2, 2)\n",
    "b = np.zeros(new_kernel.shape[1])\n",
    "for i in range(new_kernel.shape[1]):\n",
    "   b[i] = t_train[i] - (alphas[support_vector, None] * t_train[support_vector] * kernel(train_kernel[[i]], train_kernel, 2, 2).reshape(27, -1)).sum()  \n",
    "b.sum() / new_kernel.shape[1]\n"
   ]
  },
  {
   "cell_type": "code",
   "execution_count": 41,
   "metadata": {
    "colab": {
     "base_uri": "https://localhost:8080/"
    },
    "executionInfo": {
     "elapsed": 129,
     "status": "ok",
     "timestamp": 1643939911728,
     "user": {
      "displayName": "Hyungue Lim",
      "photoUrl": "https://lh3.googleusercontent.com/a/default-user=s64",
      "userId": "00654898939318373426"
     },
     "user_tz": 300
    },
    "id": "ZmV6miTAc-Yr",
    "outputId": "28239575-4d5d-4276-bd3a-eed23660bac2"
   },
   "outputs": [
    {
     "data": {
      "text/plain": [
       "array([ True,  True,  True,  True,  True,  True,  True,  True,  True,\n",
       "        True,  True,  True])"
      ]
     },
     "execution_count": 41,
     "metadata": {},
     "output_type": "execute_result"
    }
   ],
   "source": [
    "result = np.zeros(len(X_test))\n",
    "for i in range(len(X_test)):\n",
    "    result[i] = (alphas[support_vector, None] * t_train[support_vector] * kernel(X_test[[i]], train_kernel, 2, 2).reshape(new_kernel.shape[1], -1)).sum() + 564.0 \n",
    "np.array(y_test).reshape(-1) == (result > 0)"
   ]
  },
  {
   "cell_type": "code",
   "execution_count": 39,
   "metadata": {},
   "outputs": [
    {
     "data": {
      "text/plain": [
       "array([1, 1, 1, 1, 0, 1, 1, 1, 0, 1, 1, 0])"
      ]
     },
     "execution_count": 39,
     "metadata": {},
     "output_type": "execute_result"
    }
   ],
   "source": [
    "np.array(y_test).reshape(-1)"
   ]
  }
 ],
 "metadata": {
  "colab": {
   "authorship_tag": "ABX9TyOMyyXxXJboooo8N4PKswlK",
   "collapsed_sections": [],
   "name": "SVM.ipynb",
   "provenance": []
  },
  "kernelspec": {
   "display_name": "Python 3",
   "language": "python",
   "name": "python3"
  },
  "language_info": {
   "codemirror_mode": {
    "name": "ipython",
    "version": 3
   },
   "file_extension": ".py",
   "mimetype": "text/x-python",
   "name": "python",
   "nbconvert_exporter": "python",
   "pygments_lexer": "ipython3",
   "version": "3.9.4"
  }
 },
 "nbformat": 4,
 "nbformat_minor": 1
}
