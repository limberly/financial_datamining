{
 "cells": [
  {
   "cell_type": "markdown",
   "metadata": {},
   "source": [
    "# Assignment 2\n",
    "\n",
    "Group 8 - Hyungue Lim and Aaron Spaulding\n",
    "\n",
    "We would like to implement a SVM on the bankruptcy dataset"
   ]
  },
  {
   "cell_type": "code",
   "execution_count": 1,
   "metadata": {},
   "outputs": [],
   "source": [
    "import copy\n",
    "import random \n",
    "\n",
    "import pandas as pd\n",
    "import numpy as np\n",
    "\n",
    "from sklearn.preprocessing import StandardScaler\n",
    "from sklearn.model_selection import train_test_split\n",
    "from sklearn.feature_selection import SelectKBest\n",
    "\n",
    "from matplotlib import pyplot as plt\n",
    "\n",
    "import cvxopt as opt\n",
    "from cvxopt import matrix, solvers"
   ]
  },
  {
   "cell_type": "code",
   "execution_count": 2,
   "metadata": {},
   "outputs": [],
   "source": [
    "random.seed(1)\n",
    "\n",
    "data_path = r'financial_datamining/data/bankruptcy.csv'"
   ]
  },
  {
   "cell_type": "markdown",
   "metadata": {},
   "source": [
    "# Dataset\n",
    "1) Size\n",
    "    - Sales\n",
    "    \n",
    "2) Profit\n",
    "    - ROCE: profit before tax=capital employed (%)\n",
    "    - FFTL: funds flow (earnings before interest, tax & depreciation)=total liabilities\n",
    "3) Gearing\n",
    "    - GEAR: (current liabilities + long-term debt)=total assets\n",
    "    - CLTA: current liabilities=total assets\n",
    "4) Liquidity\n",
    "    - CACL: current assets=current liabilities\n",
    "    - QACL: (current assets – stock)=current liabilities\n",
    "    - WCTA: (current assets – current liabilities)=total assets\n",
    "5) LAG: number of days between account year end and the date the annual report and accounts\n",
    "were filed at company registry.\n",
    "6) AGE: number of years the company has been operating since incorporation date.\n",
    "7) CHAUD: coded 1 if changed auditor in previous three years, 0 otherwise\n",
    "8) BIG6: coded 1 if company auditor is a Big6 auditor, 0 otherwise\n",
    "9) FAIL: The target variable, either = 1 or 0."
   ]
  },
  {
   "cell_type": "code",
   "execution_count": 3,
   "metadata": {},
   "outputs": [],
   "source": [
    "bankruptcy_df = pd.read_csv(data_path)\n",
    "\n",
    "X = bankruptcy_df[bankruptcy_df.columns.difference(['Firm', 'FAIL'])]\n",
    "y = bankruptcy_df[['FAIL']]\n",
    "X_train, X_test, y_train, y_test = train_test_split(X, y, test_size=0.2, random_state=12345)\n",
    "\n",
    "scaler = StandardScaler()\n",
    "scaler.fit(X_train)\n",
    "\n",
    "X_train = scaler.transform(X_train)\n",
    "X_test = scaler.transform(X_test)\n",
    "\n",
    "from sklearn.feature_selection import SelectKBest\n",
    "k = 10\n",
    "prep = SelectKBest(k=k)\n",
    "X_train = prep.fit_transform(X_train, y_train.values.flatten())\n",
    "X_test = prep.fit_transform(X_test, y_test.values.flatten())"
   ]
  },
  {
   "cell_type": "markdown",
   "metadata": {},
   "source": [
    "## Kernal\n",
    "\n",
    "### Linear Kernal\n",
    "$$X*X^T$$\n",
    "\n",
    "### Polynomial Kernal\n",
    "$$K(x^{(i)}, c^{(j)}) = (x^{(i)^T} x^{(j)} + 1)^d$$\n",
    "\n",
    "### Gaussian Kernal\n",
    "$$K(x^{(i)}, x^{(j)}) = exp(\\frac{-||x^{(i)}-x^{(j)}||^2}{2\\sigma^2})$$"
   ]
  },
  {
   "cell_type": "code",
   "execution_count": 4,
   "metadata": {},
   "outputs": [],
   "source": [
    "def kernel(XTest, XTrain, ktype = 0, sigma = 0):\n",
    "    # Write your code below\n",
    "    \"\"\"\n",
    "    ktype=0 : RBF\n",
    "    ktype=1 : Polynomial (sigma is the exponent)\n",
    "    ktype=2 : Linear\n",
    "    \"\"\"\n",
    "\n",
    "    m = XTest.shape[0]\n",
    "    if ktype == 0:\n",
    "        \n",
    "        K = np.zeros((m,m))\n",
    "        for i in range(m):\n",
    "            if m > 1:\n",
    "                K[i] = np.exp((-np.linalg.norm(XTest[i] - XTrain, axis=1)**2) / (2*(sigma**2)))\n",
    "            elif m == 1:\n",
    "                K = np.exp((-np.linalg.norm(XTest[i] - XTrain, axis=1)**2) / (2*(sigma**2)))\n",
    "    elif ktype == 1:\n",
    "        K = (1 + XTest.dot(XTrain.T))**sigma\n",
    "\n",
    "    elif ktype == 2:\n",
    "        K = XTest.dot(XTrain.T)\n",
    "\n",
    "    return K   "
   ]
  },
  {
   "cell_type": "markdown",
   "metadata": {},
   "source": [
    "## Intercept\n",
    "\n",
    "$$b=\\frac{1}{N_s}(\\sum_{i=1}^{N_s}(y_i-\\sum_{j=1}^{N_s}a_iy_iK(x^{(i)},x^{(j)})))$$"
   ]
  },
  {
   "cell_type": "code",
   "execution_count": 5,
   "metadata": {},
   "outputs": [],
   "source": [
    "def intercept(XTest, XTrain, yTrain, alpha):\n",
    "    global new_kernel, ktype, sigma\n",
    "    \n",
    "    support_vector = alpha > 0.0001\n",
    "    t_train = yTrain.copy()\n",
    "    t_train[yTrain == 0] = -1\n",
    "    t_train[yTrain == 1] = 1\n",
    "    t_train = t_train\n",
    "\n",
    "    train_kernel = X_train[support_vector.reshape(len(support_vector), )]\n",
    "    new_kernel = kernel(train_kernel[[0]], train_kernel, ktype, sigma)\n",
    "    if len(new_kernel.shape) == 2:\n",
    "        num_bs = new_kernel.shape[1]\n",
    "    elif len(new_kernel.shape) == 1:\n",
    "        num_bs = new_kernel.shape[0]\n",
    "        \n",
    "    b = np.zeros(num_bs)\n",
    "    for i in range(num_bs):\n",
    "        b[i] = t_train[i] - (alpha[support_vector, None] * t_train[support_vector] * kernel(train_kernel[[i]], train_kernel, ktype, sigma).reshape(num_bs, -1)).sum()  \n",
    "\n",
    "\n",
    "    return b.mean()"
   ]
  },
  {
   "cell_type": "markdown",
   "metadata": {},
   "source": [
    "## Predict\n",
    "\n",
    "$$g(x)=\\sum_{j=1}^{N} \\alpha_j y_j K(x,x^{(j)}) + b$$"
   ]
  },
  {
   "cell_type": "code",
   "execution_count": 6,
   "metadata": {},
   "outputs": [],
   "source": [
    "def predict(XTest, XTrain, yTrain, alpha):\n",
    "    global new_kernel, ktype, sigma\n",
    "    \n",
    "    b = intercept(XTest, XTrain, yTrain, alpha)\n",
    "    support_vector = alpha > 0.0001\n",
    "    t_train = yTrain.copy()\n",
    "    t_train[yTrain == 0] = -1\n",
    "    t_train[yTrain == 1] = 1\n",
    "    t_train = t_train\n",
    "\n",
    "    train_kernel = X_train[support_vector.reshape(len(support_vector), )]\n",
    "    if len(new_kernel.shape) == 2:\n",
    "        num_bs = new_kernel.shape[1]\n",
    "    elif len(new_kernel.shape) == 1:\n",
    "        num_bs = new_kernel.shape[0]\n",
    "    result = np.zeros(len(XTest))\n",
    "    \n",
    "    for i in range(len(XTest)):\n",
    "        result[i] = (alpha[support_vector, None] * t_train[support_vector] * kernel(X_test[[i]], train_kernel, ktype, sigma).reshape(num_bs, -1)).sum() + b \n",
    "    \n",
    "    pred = result > 0\n",
    "    return pred"
   ]
  },
  {
   "cell_type": "code",
   "execution_count": 7,
   "metadata": {},
   "outputs": [
    {
     "name": "stdout",
     "output_type": "stream",
     "text": [
      "Accuracy: 100.000000\n",
      "\n"
     ]
    }
   ],
   "source": [
    "# global variables\n",
    "# ktype: 0 = rbf, 1 = polynomial, 2 = linear\n",
    "# sigma: if rbf, sigma = sigma; if polynomial, sigma = polynomial degree\n",
    "\n",
    "new_kernel = []\n",
    "ktype = 2\n",
    "sigma = 2\n",
    "\n",
    "\n",
    "# Linear Kernel\n",
    "TrainSize = X_train.shape[0]\n",
    "K = kernel(X_train, X_train, ktype, sigma)\n",
    "\n",
    "ymat = np.diag(y_train.values.flatten())\n",
    "m = X_train.shape[0]\n",
    "P = opt.matrix(np.outer(y_train, y_train) * K)\n",
    "q = opt.matrix(-np.ones((m, 1)))\n",
    "G = opt.matrix(np.vstack((np.eye(m) * -1, np.eye(m))))\n",
    "h = opt.matrix(np.hstack((np.zeros(m), np.ones(m) * 1)))\n",
    "A = opt.matrix(y_train.values, (1, m), \"d\")\n",
    "b = opt.matrix(np.zeros(1))\n",
    "opt.solvers.options[\"show_progress\"] = False\n",
    "sol = opt.solvers.qp(P, q, G, h, A, b)\n",
    "alphas = np.array(sol[\"x\"])\n",
    "(alphas > 0.0001).sum()\n",
    "\n",
    "\n",
    "\n",
    "pred = predict(X_test, X_train, y_train.values, alphas)\n",
    "print('Accuracy: %f\\n' % (np.mean(pred == np.array(y_test).reshape(-1)) * 100))"
   ]
  }
 ],
 "metadata": {
  "kernelspec": {
   "display_name": "Python 3",
   "language": "python",
   "name": "python3"
  },
  "language_info": {
   "codemirror_mode": {
    "name": "ipython",
    "version": 3
   },
   "file_extension": ".py",
   "mimetype": "text/x-python",
   "name": "python",
   "nbconvert_exporter": "python",
   "pygments_lexer": "ipython3",
   "version": "3.9.4"
  }
 },
 "nbformat": 4,
 "nbformat_minor": 4
}
