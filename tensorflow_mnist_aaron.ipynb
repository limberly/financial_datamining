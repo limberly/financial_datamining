{
 "cells": [
  {
   "cell_type": "markdown",
   "metadata": {},
   "source": [
    "# Neural Networks"
   ]
  },
  {
   "cell_type": "code",
   "execution_count": 1,
   "metadata": {},
   "outputs": [],
   "source": [
    "import numpy as np\n",
    "import pandas as pd\n",
    "import matplotlib.pyplot as plt\n",
    "\n",
    "from sklearn.datasets import fetch_openml\n",
    "from sklearn.model_selection import train_test_split\n",
    "\n",
    "import tensorflow as tf\n",
    "from keras.utils.np_utils import to_categorical\n",
    "from tensorflow.keras.callbacks import ModelCheckpoint\n",
    "from tensorflow.keras.callbacks import EarlyStopping\n",
    "from keras_preprocessing.image import ImageDataGenerator\n",
    "\n",
    "import tqdm\n",
    "import imageio\n",
    "from scipy import ndimage\n",
    "import matplotlib.pyplot as plt\n"
   ]
  },
  {
   "cell_type": "markdown",
   "metadata": {},
   "source": [
    "## Data!\n",
    "\n",
    "We fetch the mnist dataset and load it into arrays! I also convert the data to tensorflow datasets to speed up training!\n",
    "\n",
    "We split this into three sections.\n",
    "- 72.25% for the training set\n",
    "- 15% is for the test set\n",
    "- 12.75% for the validation set\n"
   ]
  },
  {
   "cell_type": "code",
   "execution_count": 2,
   "metadata": {},
   "outputs": [],
   "source": [
    "x, y_og = fetch_openml('mnist_784', version=1, return_X_y=True)\n",
    "x = (x / 255).astype('float32')\n",
    "y = to_categorical(y_og)\n",
    "\n",
    "x_train_val, x_test, y_train_val, y_test = train_test_split(x, y, test_size=0.15, random_state=42)\n",
    "x_train, x_val, y_train, y_val = train_test_split(x_train_val, y_train_val, test_size=0.15, random_state=42)"
   ]
  },
  {
   "cell_type": "code",
   "execution_count": 3,
   "metadata": {},
   "outputs": [],
   "source": [
    "train_dataset = tf.data.Dataset.from_tensor_slices((x_train, y_train))\n",
    "test_dataset = tf.data.Dataset.from_tensor_slices((x_test, y_test))\n",
    "validation_dataset = tf.data.Dataset.from_tensor_slices((x_val, y_val))"
   ]
  },
  {
   "cell_type": "markdown",
   "metadata": {},
   "source": [
    "## Neural Network"
   ]
  },
  {
   "cell_type": "markdown",
   "metadata": {},
   "source": [
    "### The structure\n",
    "- Input layer with 784 inputs. (One for each pixel.)\n",
    "- 2x Dense Layers with 'relu' activation\n",
    "- Dense Layer with 'softmax' activation as the output layer"
   ]
  },
  {
   "cell_type": "code",
   "execution_count": 4,
   "metadata": {},
   "outputs": [],
   "source": [
    "model = tf.keras.models.Sequential([tf.keras.layers.Input(shape=784),\n",
    "                                    tf.keras.layers.Dense(128, activation='relu'),\n",
    "                                    tf.keras.layers.Dropout(0.5),\n",
    "                                    tf.keras.layers.Dense(128, activation='relu'),\n",
    "                                    tf.keras.layers.Dropout(0.25),\n",
    "                                    tf.keras.layers.Dense(128, activation='relu'),\n",
    "                                    tf.keras.layers.Dense(64, activation='relu'),\n",
    "                                    tf.keras.layers.Dense(10, activation='softmax')])"
   ]
  },
  {
   "cell_type": "markdown",
   "metadata": {},
   "source": [
    "### Model Compilation\n",
    "- We use the SGD optimization strategy\n",
    "- We use Categorical Crossentropy loss since we one-hot-encoded the variables\n",
    "- We track the accuracy during training\n"
   ]
  },
  {
   "cell_type": "code",
   "execution_count": 5,
   "metadata": {},
   "outputs": [
    {
     "name": "stdout",
     "output_type": "stream",
     "text": [
      "Model: \"sequential\"\n",
      "_________________________________________________________________\n",
      "Layer (type)                 Output Shape              Param #   \n",
      "=================================================================\n",
      "dense (Dense)                (None, 128)               100480    \n",
      "_________________________________________________________________\n",
      "dropout (Dropout)            (None, 128)               0         \n",
      "_________________________________________________________________\n",
      "dense_1 (Dense)              (None, 128)               16512     \n",
      "_________________________________________________________________\n",
      "dropout_1 (Dropout)          (None, 128)               0         \n",
      "_________________________________________________________________\n",
      "dense_2 (Dense)              (None, 128)               16512     \n",
      "_________________________________________________________________\n",
      "dense_3 (Dense)              (None, 64)                8256      \n",
      "_________________________________________________________________\n",
      "dense_4 (Dense)              (None, 10)                650       \n",
      "=================================================================\n",
      "Total params: 142,410\n",
      "Trainable params: 142,410\n",
      "Non-trainable params: 0\n",
      "_________________________________________________________________\n"
     ]
    }
   ],
   "source": [
    "model.compile(optimizer=tf.keras.optimizers.SGD(learning_rate=0.01),\n",
    "              loss=tf.keras.losses.CategoricalCrossentropy(),\n",
    "              metrics=['accuracy'])\n",
    "model.summary()"
   ]
  },
  {
   "cell_type": "markdown",
   "metadata": {},
   "source": [
    "### Training\n",
    "- We want to use GPU to speed things up\n",
    "- Callbacks\n",
    "    - Early stopping if we don't improve on the test set for epochs\n",
    "    - Save and use the model with the highest validation accuracy"
   ]
  },
  {
   "cell_type": "code",
   "execution_count": 6,
   "metadata": {},
   "outputs": [
    {
     "name": "stdout",
     "output_type": "stream",
     "text": [
      "Num GPUs Available:  2\n"
     ]
    }
   ],
   "source": [
    "print(\"Num GPUs Available: \", len(tf.config.list_physical_devices('GPU')))"
   ]
  },
  {
   "cell_type": "markdown",
   "metadata": {},
   "source": [
    "#### Callbacks"
   ]
  },
  {
   "cell_type": "code",
   "execution_count": 7,
   "metadata": {},
   "outputs": [],
   "source": [
    "deep_checkpoint_callback = ModelCheckpoint('nn.h5',\n",
    "                                           monitor='val_accuracy',\n",
    "                                           verbose=True,\n",
    "                                           save_best_only=True,\n",
    "                                           save_weights_only=False,\n",
    "                                           mode='max')\n",
    "deep_early_stopping_callback = EarlyStopping(monitor='val_loss',\n",
    "                                             patience=5,\n",
    "                                             restore_best_weights=True)\n",
    "\n"
   ]
  },
  {
   "cell_type": "markdown",
   "metadata": {},
   "source": [
    "#### Training"
   ]
  },
  {
   "cell_type": "code",
   "execution_count": 8,
   "metadata": {},
   "outputs": [
    {
     "name": "stdout",
     "output_type": "stream",
     "text": [
      "Epoch 1/70\n",
      "2023/2023 [==============================] - ETA: 0s - loss: 1.1058 - accuracy: 0.6307\n",
      "Epoch 00001: val_accuracy improved from -inf to 0.89076, saving model to nn.h5\n",
      "2023/2023 [==============================] - 3s 2ms/step - loss: 1.1058 - accuracy: 0.6307 - val_loss: 0.3712 - val_accuracy: 0.8908\n",
      "Epoch 2/70\n",
      "1994/2023 [============================>.] - ETA: 0s - loss: 0.4728 - accuracy: 0.8543\n",
      "Epoch 00002: val_accuracy improved from 0.89076 to 0.92095, saving model to nn.h5\n",
      "2023/2023 [==============================] - 3s 2ms/step - loss: 0.4723 - accuracy: 0.8545 - val_loss: 0.2677 - val_accuracy: 0.9210\n",
      "Epoch 3/70\n",
      "2004/2023 [============================>.] - ETA: 0s - loss: 0.3692 - accuracy: 0.8875\n",
      "Epoch 00003: val_accuracy improved from 0.92095 to 0.93714, saving model to nn.h5\n",
      "2023/2023 [==============================] - 3s 2ms/step - loss: 0.3691 - accuracy: 0.8875 - val_loss: 0.2194 - val_accuracy: 0.9371\n",
      "Epoch 4/70\n",
      "2010/2023 [============================>.] - ETA: 0s - loss: 0.3173 - accuracy: 0.9030\n",
      "Epoch 00004: val_accuracy improved from 0.93714 to 0.94362, saving model to nn.h5\n",
      "2023/2023 [==============================] - 3s 2ms/step - loss: 0.3175 - accuracy: 0.9031 - val_loss: 0.1920 - val_accuracy: 0.9436\n",
      "Epoch 5/70\n",
      "2018/2023 [============================>.] - ETA: 0s - loss: 0.2791 - accuracy: 0.9151\n",
      "Epoch 00005: val_accuracy improved from 0.94362 to 0.94895, saving model to nn.h5\n",
      "2023/2023 [==============================] - 3s 2ms/step - loss: 0.2791 - accuracy: 0.9152 - val_loss: 0.1730 - val_accuracy: 0.9490\n",
      "Epoch 6/70\n",
      "2017/2023 [============================>.] - ETA: 0s - loss: 0.2577 - accuracy: 0.9218\n",
      "Epoch 00006: val_accuracy improved from 0.94895 to 0.95171, saving model to nn.h5\n",
      "2023/2023 [==============================] - 3s 2ms/step - loss: 0.2578 - accuracy: 0.9217 - val_loss: 0.1626 - val_accuracy: 0.9517\n",
      "Epoch 7/70\n",
      "2012/2023 [============================>.] - ETA: 0s - loss: 0.2391 - accuracy: 0.9268\n",
      "Epoch 00007: val_accuracy improved from 0.95171 to 0.95410, saving model to nn.h5\n",
      "2023/2023 [==============================] - 3s 2ms/step - loss: 0.2391 - accuracy: 0.9267 - val_loss: 0.1532 - val_accuracy: 0.9541\n",
      "Epoch 8/70\n",
      "2022/2023 [============================>.] - ETA: 0s - loss: 0.2234 - accuracy: 0.9330\n",
      "Epoch 00008: val_accuracy improved from 0.95410 to 0.95667, saving model to nn.h5\n",
      "2023/2023 [==============================] - 3s 2ms/step - loss: 0.2234 - accuracy: 0.9330 - val_loss: 0.1476 - val_accuracy: 0.9567\n",
      "Epoch 9/70\n",
      "2006/2023 [============================>.] - ETA: 0s - loss: 0.2109 - accuracy: 0.9369\n",
      "Epoch 00009: val_accuracy improved from 0.95667 to 0.96010, saving model to nn.h5\n",
      "2023/2023 [==============================] - 3s 2ms/step - loss: 0.2114 - accuracy: 0.9367 - val_loss: 0.1371 - val_accuracy: 0.9601\n",
      "Epoch 10/70\n",
      "2012/2023 [============================>.] - ETA: 0s - loss: 0.2016 - accuracy: 0.9391\n",
      "Epoch 00010: val_accuracy improved from 0.96010 to 0.96019, saving model to nn.h5\n",
      "2023/2023 [==============================] - 3s 2ms/step - loss: 0.2018 - accuracy: 0.9390 - val_loss: 0.1336 - val_accuracy: 0.9602\n",
      "Epoch 11/70\n",
      "2004/2023 [============================>.] - ETA: 0s - loss: 0.1946 - accuracy: 0.9420\n",
      "Epoch 00011: val_accuracy did not improve from 0.96019\n",
      "2023/2023 [==============================] - 3s 2ms/step - loss: 0.1947 - accuracy: 0.9420 - val_loss: 0.1300 - val_accuracy: 0.9600\n",
      "Epoch 12/70\n",
      "2019/2023 [============================>.] - ETA: 0s - loss: 0.1865 - accuracy: 0.9427\n",
      "Epoch 00012: val_accuracy improved from 0.96019 to 0.96162, saving model to nn.h5\n",
      "2023/2023 [==============================] - 3s 2ms/step - loss: 0.1864 - accuracy: 0.9428 - val_loss: 0.1292 - val_accuracy: 0.9616\n",
      "Epoch 13/70\n",
      "2009/2023 [============================>.] - ETA: 0s - loss: 0.1814 - accuracy: 0.9444\n",
      "Epoch 00013: val_accuracy did not improve from 0.96162\n",
      "2023/2023 [==============================] - 3s 2ms/step - loss: 0.1811 - accuracy: 0.9444 - val_loss: 0.1259 - val_accuracy: 0.9616\n",
      "Epoch 14/70\n",
      "2016/2023 [============================>.] - ETA: 0s - loss: 0.1729 - accuracy: 0.9470\n",
      "Epoch 00014: val_accuracy improved from 0.96162 to 0.96333, saving model to nn.h5\n",
      "2023/2023 [==============================] - 3s 2ms/step - loss: 0.1731 - accuracy: 0.9470 - val_loss: 0.1211 - val_accuracy: 0.9633\n",
      "Epoch 15/70\n",
      "2022/2023 [============================>.] - ETA: 0s - loss: 0.1702 - accuracy: 0.9483\n",
      "Epoch 00015: val_accuracy improved from 0.96333 to 0.96419, saving model to nn.h5\n",
      "2023/2023 [==============================] - 3s 2ms/step - loss: 0.1702 - accuracy: 0.9483 - val_loss: 0.1234 - val_accuracy: 0.9642\n",
      "Epoch 16/70\n",
      "2021/2023 [============================>.] - ETA: 0s - loss: 0.1664 - accuracy: 0.9501\n",
      "Epoch 00016: val_accuracy improved from 0.96419 to 0.96467, saving model to nn.h5\n",
      "2023/2023 [==============================] - 3s 2ms/step - loss: 0.1664 - accuracy: 0.9501 - val_loss: 0.1198 - val_accuracy: 0.9647\n",
      "Epoch 17/70\n",
      "1998/2023 [============================>.] - ETA: 0s - loss: 0.1616 - accuracy: 0.9505\n",
      "Epoch 00017: val_accuracy did not improve from 0.96467\n",
      "2023/2023 [==============================] - 3s 2ms/step - loss: 0.1616 - accuracy: 0.9504 - val_loss: 0.1235 - val_accuracy: 0.9642\n",
      "Epoch 18/70\n",
      "2018/2023 [============================>.] - ETA: 0s - loss: 0.1551 - accuracy: 0.9534\n",
      "Epoch 00018: val_accuracy improved from 0.96467 to 0.96505, saving model to nn.h5\n",
      "2023/2023 [==============================] - 3s 2ms/step - loss: 0.1550 - accuracy: 0.9534 - val_loss: 0.1190 - val_accuracy: 0.9650\n",
      "Epoch 19/70\n",
      "1998/2023 [============================>.] - ETA: 0s - loss: 0.1532 - accuracy: 0.9527\n",
      "Epoch 00019: val_accuracy improved from 0.96505 to 0.96543, saving model to nn.h5\n",
      "2023/2023 [==============================] - 3s 2ms/step - loss: 0.1534 - accuracy: 0.9527 - val_loss: 0.1157 - val_accuracy: 0.9654\n",
      "Epoch 20/70\n",
      "1994/2023 [============================>.] - ETA: 0s - loss: 0.1473 - accuracy: 0.9546\n",
      "Epoch 00020: val_accuracy improved from 0.96543 to 0.96686, saving model to nn.h5\n",
      "2023/2023 [==============================] - 3s 2ms/step - loss: 0.1474 - accuracy: 0.9545 - val_loss: 0.1122 - val_accuracy: 0.9669\n",
      "Epoch 21/70\n",
      "2020/2023 [============================>.] - ETA: 0s - loss: 0.1440 - accuracy: 0.9546\n",
      "Epoch 00021: val_accuracy did not improve from 0.96686\n",
      "2023/2023 [==============================] - 3s 2ms/step - loss: 0.1440 - accuracy: 0.9546 - val_loss: 0.1123 - val_accuracy: 0.9668\n",
      "Epoch 22/70\n",
      "2015/2023 [============================>.] - ETA: 0s - loss: 0.1418 - accuracy: 0.9563\n",
      "Epoch 00022: val_accuracy did not improve from 0.96686\n",
      "2023/2023 [==============================] - 3s 2ms/step - loss: 0.1418 - accuracy: 0.9563 - val_loss: 0.1118 - val_accuracy: 0.9668\n",
      "Epoch 23/70\n",
      "2012/2023 [============================>.] - ETA: 0s - loss: 0.1398 - accuracy: 0.9579\n",
      "Epoch 00023: val_accuracy improved from 0.96686 to 0.96876, saving model to nn.h5\n",
      "2023/2023 [==============================] - 3s 2ms/step - loss: 0.1403 - accuracy: 0.9579 - val_loss: 0.1089 - val_accuracy: 0.9688\n",
      "Epoch 24/70\n",
      "2016/2023 [============================>.] - ETA: 0s - loss: 0.1384 - accuracy: 0.9567\n",
      "Epoch 00024: val_accuracy improved from 0.96876 to 0.96895, saving model to nn.h5\n",
      "2023/2023 [==============================] - 3s 2ms/step - loss: 0.1387 - accuracy: 0.9566 - val_loss: 0.1115 - val_accuracy: 0.9690\n",
      "Epoch 25/70\n",
      "1990/2023 [============================>.] - ETA: 0s - loss: 0.1354 - accuracy: 0.9575\n",
      "Epoch 00025: val_accuracy did not improve from 0.96895\n",
      "2023/2023 [==============================] - 3s 2ms/step - loss: 0.1359 - accuracy: 0.9574 - val_loss: 0.1104 - val_accuracy: 0.9674\n",
      "Epoch 26/70\n",
      "2001/2023 [============================>.] - ETA: 0s - loss: 0.1325 - accuracy: 0.9596\n",
      "Epoch 00026: val_accuracy did not improve from 0.96895\n",
      "2023/2023 [==============================] - 3s 2ms/step - loss: 0.1322 - accuracy: 0.9597 - val_loss: 0.1102 - val_accuracy: 0.9681\n",
      "Epoch 27/70\n",
      "1991/2023 [============================>.] - ETA: 0s - loss: 0.1284 - accuracy: 0.9608\n",
      "Epoch 00027: val_accuracy improved from 0.96895 to 0.96971, saving model to nn.h5\n",
      "2023/2023 [==============================] - 3s 2ms/step - loss: 0.1284 - accuracy: 0.9607 - val_loss: 0.1060 - val_accuracy: 0.9697\n",
      "Epoch 28/70\n",
      "2017/2023 [============================>.] - ETA: 0s - loss: 0.1273 - accuracy: 0.9605\n",
      "Epoch 00028: val_accuracy did not improve from 0.96971\n",
      "2023/2023 [==============================] - 3s 2ms/step - loss: 0.1272 - accuracy: 0.9605 - val_loss: 0.1088 - val_accuracy: 0.9686\n",
      "Epoch 29/70\n",
      "2012/2023 [============================>.] - ETA: 0s - loss: 0.1227 - accuracy: 0.9604\n",
      "Epoch 00029: val_accuracy did not improve from 0.96971\n",
      "2023/2023 [==============================] - 3s 2ms/step - loss: 0.1227 - accuracy: 0.9604 - val_loss: 0.1061 - val_accuracy: 0.9694\n",
      "Epoch 30/70\n",
      "2021/2023 [============================>.] - ETA: 0s - loss: 0.1224 - accuracy: 0.9626\n",
      "Epoch 00030: val_accuracy did not improve from 0.96971\n",
      "2023/2023 [==============================] - 3s 2ms/step - loss: 0.1225 - accuracy: 0.9626 - val_loss: 0.1062 - val_accuracy: 0.9695\n",
      "Epoch 31/70\n",
      "2017/2023 [============================>.] - ETA: 0s - loss: 0.1191 - accuracy: 0.9635\n",
      "Epoch 00031: val_accuracy did not improve from 0.96971\n",
      "2023/2023 [==============================] - 3s 2ms/step - loss: 0.1190 - accuracy: 0.9634 - val_loss: 0.1070 - val_accuracy: 0.9697\n",
      "Epoch 32/70\n",
      "2011/2023 [============================>.] - ETA: 0s - loss: 0.1186 - accuracy: 0.9628\n",
      "Epoch 00032: val_accuracy did not improve from 0.96971\n",
      "2023/2023 [==============================] - 3s 2ms/step - loss: 0.1188 - accuracy: 0.9627 - val_loss: 0.1062 - val_accuracy: 0.9692\n"
     ]
    }
   ],
   "source": [
    "batch_size = 25\n",
    "\n",
    "try:\n",
    "    model.load_weights('nn.h5') # Load saved model\n",
    "except:\n",
    "    pass\n",
    "\n",
    "with tf.device('/CPU:0'):\n",
    "    history = model.fit(train_dataset.batch(batch_size),\n",
    "                        batch_size=batch_size,\n",
    "                        epochs=70,\n",
    "                        validation_data=validation_dataset.batch(batch_size),\n",
    "                        callbacks=[deep_checkpoint_callback, deep_early_stopping_callback])"
   ]
  },
  {
   "cell_type": "code",
   "execution_count": 9,
   "metadata": {},
   "outputs": [
    {
     "name": "stdout",
     "output_type": "stream",
     "text": [
      "279/279 [==============================] - 0s 970us/step - loss: 0.0969 - accuracy: 0.9718\n"
     ]
    },
    {
     "data": {
      "text/plain": [
       "[0.0969351977109909, 0.9717646837234497]"
      ]
     },
     "execution_count": 9,
     "metadata": {},
     "output_type": "execute_result"
    }
   ],
   "source": [
    "model.load_weights('nn.h5')\n",
    "model.evaluate(x=x_test, y=y_test)"
   ]
  },
  {
   "cell_type": "code",
   "execution_count": 10,
   "metadata": {},
   "outputs": [
    {
     "data": {
      "image/png": "[encoded data removed]",
      "text/plain": [
       "<Figure size 432x288 with 1 Axes>"
      ]
     },
     "metadata": {
      "needs_background": "light"
     },
     "output_type": "display_data"
    },
    {
     "data": {
      "image/png": "[encoded data removed]",
      "text/plain": [
       "<Figure size 432x288 with 1 Axes>"
      ]
     },
     "metadata": {
      "needs_background": "light"
     },
     "output_type": "display_data"
    }
   ],
   "source": [
    "# Plot loss vs. epochs\n",
    "plt.plot(np.array(history.history['loss']), color='gold', label='Training Data')\n",
    "plt.plot(np.array(history.history['val_loss']), color='m', label='Validation Data')\n",
    "plt.title('Loss vs. Epochs')\n",
    "plt.xlabel('Epoch')\n",
    "plt.ylabel('Loss')\n",
    "plt.legend(loc='upper right')\n",
    "plt.show()\n",
    "\n",
    "# Plot accuracy vs. epochs\n",
    "plt.plot(np.array(history.history['accuracy']) * 100, color='gold', label='Training Data')\n",
    "plt.plot(np.array(history.history['val_accuracy']) * 100, color='m', label='Validation Data')\n",
    "plt.title('Accuracy vs. Epochs')\n",
    "plt.xlabel('Epoch')\n",
    "plt.ylabel('Accuracy')\n",
    "plt.legend(loc='lower right')\n",
    "plt.show()"
   ]
  }
 ],
 "metadata": {
  "kernelspec": {
   "display_name": "Python 3",
   "language": "python",
   "name": "python3"
  },
  "language_info": {
   "codemirror_mode": {
    "name": "ipython",
    "version": 3
   },
   "file_extension": ".py",
   "mimetype": "text/x-python",
   "name": "python",
   "nbconvert_exporter": "python",
   "pygments_lexer": "ipython3",
   "version": "3.8.10"
  }
 },
 "nbformat": 4,
 "nbformat_minor": 4
}
